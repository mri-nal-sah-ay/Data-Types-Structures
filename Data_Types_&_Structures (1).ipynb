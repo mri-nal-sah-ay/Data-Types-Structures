{
  "nbformat": 4,
  "nbformat_minor": 0,
  "metadata": {
    "colab": {
      "provenance": [],
      "gpuType": "V28"
    },
    "kernelspec": {
      "name": "python3",
      "display_name": "Python 3"
    },
    "language_info": {
      "name": "python"
    },
    "accelerator": "TPU"
  },
  "cells": [
    {
      "cell_type": "markdown",
      "source": [
        "# **Assignment PW Skills - Mrinal Sahay**"
      ],
      "metadata": {
        "id": "XTqpjpe-0PZw"
      }
    },
    {
      "cell_type": "markdown",
      "source": [
        "**Theory Questions**"
      ],
      "metadata": {
        "id": "WmlrMWQOgJeb"
      }
    },
    {
      "cell_type": "markdown",
      "source": [
        "Q1. What are data structures, and why are they important ?\n",
        "\n",
        "\n",
        "*   Data structures are ways to organize and store data in a computer, and they’re important because they make it easier and faster to process and retrieve information.\n",
        "\n",
        "\n"
      ],
      "metadata": {
        "id": "rcp5bLA18ABl"
      }
    },
    {
      "cell_type": "markdown",
      "source": [
        "Q2. Explain the difference between mutable and immutable data types with examples ?\n",
        "\n",
        "*   Mutable data types can be changed after creation (e.g., lists), while immutable ones cannot (e.g., strings)\n",
        "\n"
      ],
      "metadata": {
        "id": "enn5YxRQ8fJz"
      }
    },
    {
      "cell_type": "markdown",
      "source": [
        "Q3. What are the main differences between lists and tuples in Python ?\n",
        "\n",
        "*   Lists are mutable and can be changed, while tuples are immutable and cannot be altered after creation.\n",
        "\n"
      ],
      "metadata": {
        "id": "X5bAjD9Z8lMj"
      }
    },
    {
      "cell_type": "markdown",
      "source": [
        "Q4. Lists are mutable and can be changed, while tuples are immutable and cannot be altered after creation ?\n",
        "\n",
        "*   Dictionaries store data as key-value pairs, where each key is unique and linked to a specific value.\n",
        "\n"
      ],
      "metadata": {
        "id": "lDbIHScR8sZX"
      }
    },
    {
      "cell_type": "markdown",
      "source": [
        "Q5. Why might you use a set instead of a list in Python ?\n",
        "\n",
        "\n",
        "*   Sets automatically remove duplicates and offer faster membership testing than lists.\n",
        "\n",
        "\n"
      ],
      "metadata": {
        "id": "D__xIM7N8xeu"
      }
    },
    {
      "cell_type": "markdown",
      "source": [
        "Q6. What is a string in Python, and how is it different from a list ?\n",
        "\n",
        "*   A string is a sequence of characters, while a list is a mutable collection of any data type; strings are immutable, lists are not.\n",
        "\n"
      ],
      "metadata": {
        "id": "TJWoLs0sxZpX"
      }
    },
    {
      "cell_type": "markdown",
      "source": [
        "Q7. How do tuples ensure data integrity in Python ?\n",
        "\n",
        "*   Tuples are immutable, so their elements cannot be changed after creation, protecting the data\n",
        "\n"
      ],
      "metadata": {
        "id": "jPsFzUZZxkE1"
      }
    },
    {
      "cell_type": "markdown",
      "source": [
        "Q8. What is a hash table, and how does it relate to dictionaries in Python ?\n",
        "\n",
        "*   A hash table is a data structure that maps keys to values using a hash function; Python dictionaries are built on hash tables.\n",
        "\n"
      ],
      "metadata": {
        "id": "ya3c6t6ExypV"
      }
    },
    {
      "cell_type": "markdown",
      "source": [
        "Q9. Can lists contain different data types in Python ?\n",
        "\n",
        "*   Yes, lists can hold multiple data types like integers, strings, and objects in a single list.\n",
        "\n"
      ],
      "metadata": {
        "id": "bakzUmQax56e"
      }
    },
    {
      "cell_type": "markdown",
      "source": [
        "Q10. Explain why strings are immutable in Python ?\n",
        "\n",
        "*   Strings are immutable to ensure their data remains consistent and safe from unintended changes, optimizing memory use\n",
        "\n"
      ],
      "metadata": {
        "id": "EQskbVxdyDQ7"
      }
    },
    {
      "cell_type": "markdown",
      "source": [
        "Q11.  What advantages do dictionaries offer over lists for certain tasks ?\n",
        "\n",
        "*   Dictionaries provide fast key-based lookups, unlike lists which require index-based or sequential searching\n",
        "\n"
      ],
      "metadata": {
        "id": "Ai81BG_RyLWS"
      }
    },
    {
      "cell_type": "markdown",
      "source": [
        "Q12. Describe a scenario where using a tuple would be preferable over a list ?\n",
        "\n",
        "*   Use a tuple for fixed, unchangeable data like coordinates (x, y) to prevent accidental modifications\n",
        "\n"
      ],
      "metadata": {
        "id": "2xlL3ASayTki"
      }
    },
    {
      "cell_type": "markdown",
      "source": [
        "Q13. How do sets handle duplicate values in Python ?\n",
        "\n",
        "*   Sets automatically discard duplicates, ensuring all elements are unique\n"
      ],
      "metadata": {
        "id": "7HfsHaaVya5Y"
      }
    },
    {
      "cell_type": "markdown",
      "source": [
        "Q14. How does the “in” keyword work differently for lists and dictionaries ?\n",
        "\n",
        "*   In lists, “in” checks for an element’s presence sequentially; in dictionaries, it checks for a key’s existence using a hash lookup.\n",
        "\n"
      ],
      "metadata": {
        "id": "SlUcH9poyhq8"
      }
    },
    {
      "cell_type": "markdown",
      "source": [
        "Q15. Can you modify the elements of a tuple? Explain why or why not ?\n",
        "\n",
        "*   No, tuple elements cannot be modified because tuples are immutable by design.\n",
        "\n"
      ],
      "metadata": {
        "id": "kgRHxNEoyoiq"
      }
    },
    {
      "cell_type": "markdown",
      "source": [
        "Q16. What is a nested dictionary, and give an example of its use case ?\n",
        "\n",
        "*   LA nested dictionary is a dictionary inside another dictionary; e.g., storing student grades by subject like {“Alice”: {“Math”: 95, “Science”: 88}}.\n",
        "\n"
      ],
      "metadata": {
        "id": "30r0LlFJzAch"
      }
    },
    {
      "cell_type": "markdown",
      "source": [
        "Q17. Describe the time complexity of accessing elements in a dictionary ?\n",
        "\n",
        "*   Accessing elements in a dictionary has an average time complexity of O(1) due to hash table efficiency.\n",
        "\n"
      ],
      "metadata": {
        "id": "hXOLj7jfzdC8"
      }
    },
    {
      "cell_type": "markdown",
      "source": [
        "Q18. In what situations are lists preferred over dictionaries ?\n",
        "\n",
        "*   Lists are preferred when you need ordered data or simple iteration without key-value pairs, like a sequence of numbers.\n"
      ],
      "metadata": {
        "id": "Cn9t9TP6zpdT"
      }
    },
    {
      "cell_type": "markdown",
      "source": [
        "Q19. Why are dictionaries considered unordered, and how does that affect data retrieval ?\n",
        "\n",
        "*   Dictionaries rely on hash-based storage, not sequence, so order isn’t guaranteed retrieval depends on keys, not position.\n",
        "\n"
      ],
      "metadata": {
        "id": "yh4CEa0CzyK5"
      }
    },
    {
      "cell_type": "markdown",
      "source": [
        "Q20. Explain the difference between a list and a dictionary in terms of data retrieval ?\n",
        "\n",
        "*   Lists retrieve data by index position (ordered), while dictionaries retrieve data by unique keys (key-based)\n",
        "\n"
      ],
      "metadata": {
        "id": "eJK2rCulz7jv"
      }
    },
    {
      "cell_type": "markdown",
      "source": [
        "**Practical Questions**"
      ],
      "metadata": {
        "id": "hznClgWk71w8"
      }
    },
    {
      "cell_type": "markdown",
      "source": [
        "Q1. Write a code to create a string with your name and print it"
      ],
      "metadata": {
        "id": "NthAu5sjo3lp"
      }
    },
    {
      "cell_type": "code",
      "execution_count": null,
      "metadata": {
        "colab": {
          "base_uri": "https://localhost:8080/"
        },
        "id": "MYpsjQTooNhW",
        "outputId": "76c2b150-63fd-496e-a893-1914e8d9e9a1"
      },
      "outputs": [
        {
          "output_type": "stream",
          "name": "stdout",
          "text": [
            "Enter name: Mrinal Sahay\n",
            "Mrinal Sahay\n"
          ]
        }
      ],
      "source": [
        "name = input(\"Enter name: \")\n",
        "print(name)"
      ]
    },
    {
      "cell_type": "markdown",
      "source": [
        "Q2. Write a code to find the length of the string \"Hello World\""
      ],
      "metadata": {
        "id": "-VEHj5RcpG5g"
      }
    },
    {
      "cell_type": "code",
      "source": [
        "string = input(\"Enter the string: \")\n",
        "print(len(string))"
      ],
      "metadata": {
        "id": "9qRtmowSpLTf",
        "colab": {
          "base_uri": "https://localhost:8080/"
        },
        "outputId": "c8341a54-7391-4b51-9d9d-b7a8644f27b1"
      },
      "execution_count": null,
      "outputs": [
        {
          "output_type": "stream",
          "name": "stdout",
          "text": [
            "Enter the string: Hello World\n",
            "11\n"
          ]
        }
      ]
    },
    {
      "cell_type": "markdown",
      "source": [
        "Q3. Write a code to slice the first 3 characters from the string \"Python Programming\""
      ],
      "metadata": {
        "id": "L0uLgQfczWED"
      }
    },
    {
      "cell_type": "code",
      "source": [
        "string = \"Python Programming\"\n",
        "print(f\"First 3 characters of '{string}': {string[:3]}\")"
      ],
      "metadata": {
        "colab": {
          "base_uri": "https://localhost:8080/"
        },
        "id": "pTsLfT8HzuOQ",
        "outputId": "0a8f1d59-68af-4bde-e9df-a53264a0ef4b"
      },
      "execution_count": null,
      "outputs": [
        {
          "output_type": "stream",
          "name": "stdout",
          "text": [
            "First 3 characters of 'Python Programming': Pyt\n"
          ]
        }
      ]
    },
    {
      "cell_type": "markdown",
      "source": [
        "Q4. Write a code to convert the string \"hello\" to uppercase"
      ],
      "metadata": {
        "id": "RFoGf6RF0RFM"
      }
    },
    {
      "cell_type": "code",
      "source": [
        "string = \"hello\"\n",
        "print(f\"'{string}' in uppercase: {string.upper()}\")"
      ],
      "metadata": {
        "colab": {
          "base_uri": "https://localhost:8080/"
        },
        "id": "ydJ62rfN0W4I",
        "outputId": "72aed7be-93e7-484c-82f5-d751db77b41a"
      },
      "execution_count": null,
      "outputs": [
        {
          "output_type": "stream",
          "name": "stdout",
          "text": [
            "'hello' in uppercase: HELLO\n"
          ]
        }
      ]
    },
    {
      "cell_type": "markdown",
      "source": [
        "Q5. Write a code to replace the word \"apple\" with \"orange\" in the string \"I like apple\""
      ],
      "metadata": {
        "id": "lmcSJQot0auq"
      }
    },
    {
      "cell_type": "code",
      "source": [
        "string = \"I like apple\"\n",
        "new_string = string.replace(\"apple\", \"orange\")\n",
        "print(f\" Original: '{string}'\\n Modified: '{new_string}'\")"
      ],
      "metadata": {
        "colab": {
          "base_uri": "https://localhost:8080/"
        },
        "id": "3errjvch0dw5",
        "outputId": "930d3e89-bbb2-4764-d698-2aa1fbb08a84"
      },
      "execution_count": null,
      "outputs": [
        {
          "output_type": "stream",
          "name": "stdout",
          "text": [
            " Original: 'I like apple'\n",
            " Modified: 'I like orange'\n"
          ]
        }
      ]
    },
    {
      "cell_type": "markdown",
      "source": [
        "Q6. Write a code to create a list with numbers 1 to 5 and print it"
      ],
      "metadata": {
        "id": "UrwvJwel0pDQ"
      }
    },
    {
      "cell_type": "code",
      "source": [
        "numbers = [1, 2, 3, 4, 5]\n",
        "print(f\"List of numbers: {numbers}\")"
      ],
      "metadata": {
        "colab": {
          "base_uri": "https://localhost:8080/"
        },
        "id": "Eg_tO5Gj0r11",
        "outputId": "bd9422e5-b0a9-44aa-9075-98035500c804"
      },
      "execution_count": null,
      "outputs": [
        {
          "output_type": "stream",
          "name": "stdout",
          "text": [
            "List of numbers: [1, 2, 3, 4, 5]\n"
          ]
        }
      ]
    },
    {
      "cell_type": "markdown",
      "source": [
        "Q7. Write a code to append the number 10 to the list [1, 2, 3, 4]"
      ],
      "metadata": {
        "id": "FJbuPv-c0vIG"
      }
    },
    {
      "cell_type": "code",
      "source": [
        "numbers = [1, 2, 3, 4]\n",
        "num_to_add = int(input(\"Enter number to append: \"))\n",
        "numbers.append(num_to_add)\n",
        "print(f\"Updated list: {numbers}\")"
      ],
      "metadata": {
        "colab": {
          "base_uri": "https://localhost:8080/"
        },
        "id": "5RHYr-jZ0zWe",
        "outputId": "e946303a-bef4-45d1-99f8-1ab0935e5e15"
      },
      "execution_count": null,
      "outputs": [
        {
          "output_type": "stream",
          "name": "stdout",
          "text": [
            "Enter number to append: 10\n",
            "Updated list: [1, 2, 3, 4, 10]\n"
          ]
        }
      ]
    },
    {
      "cell_type": "markdown",
      "source": [
        "Q8. Write a code to remove the number 3 from the list [1, 2, 3, 4, 5]"
      ],
      "metadata": {
        "id": "H3GH7zOJ0-gt"
      }
    },
    {
      "cell_type": "code",
      "source": [
        "numbers = [1, 2, 3, 4, 5]\n",
        "num_to_remove = int(input(\"Enter number to remove: \"))\n",
        "numbers.remove(num_to_remove)\n",
        "print(f\"Updated list: {numbers}\")"
      ],
      "metadata": {
        "colab": {
          "base_uri": "https://localhost:8080/"
        },
        "id": "7oIRjl_r1CsG",
        "outputId": "6eabeab4-f349-4f71-db1e-d9fbbc599248"
      },
      "execution_count": null,
      "outputs": [
        {
          "output_type": "stream",
          "name": "stdout",
          "text": [
            "Enter number to remove: 3\n",
            "Updated list: [1, 2, 4, 5]\n"
          ]
        }
      ]
    },
    {
      "cell_type": "markdown",
      "source": [
        "Q9. Write a code to access the second element in the list ['a', 'b', 'c', 'd']"
      ],
      "metadata": {
        "id": "dKr_yZnJ1IsV"
      }
    },
    {
      "cell_type": "code",
      "source": [
        "letters = ['a', 'b', 'c', 'd']\n",
        "print(f\"Second element: {letters[1]}\")"
      ],
      "metadata": {
        "colab": {
          "base_uri": "https://localhost:8080/"
        },
        "id": "-Xc89TeF1M0E",
        "outputId": "d20e7793-ec7f-427a-9455-7b4515884ecb"
      },
      "execution_count": null,
      "outputs": [
        {
          "output_type": "stream",
          "name": "stdout",
          "text": [
            "Second element: b\n"
          ]
        }
      ]
    },
    {
      "cell_type": "markdown",
      "source": [
        "Q10. Write a code to reverse the list [10, 20, 30, 40, 50]"
      ],
      "metadata": {
        "id": "RPSdF3-Q1QB7"
      }
    },
    {
      "cell_type": "code",
      "source": [
        "numbers = [10, 20, 30, 40, 50]\n",
        "numbers.reverse()\n",
        "print(f\"Reversed list: {numbers}\")"
      ],
      "metadata": {
        "colab": {
          "base_uri": "https://localhost:8080/"
        },
        "id": "Doo0YMbr1Wca",
        "outputId": "4cbcf7b5-b9ce-4577-bc19-2b725e673b66"
      },
      "execution_count": null,
      "outputs": [
        {
          "output_type": "stream",
          "name": "stdout",
          "text": [
            "Reversed list: [50, 40, 30, 20, 10]\n"
          ]
        }
      ]
    },
    {
      "cell_type": "markdown",
      "source": [
        "Q11. Write a code to create a tuple with the elements 100, 200, 300 and print it"
      ],
      "metadata": {
        "id": "-QBMASai1Zfr"
      }
    },
    {
      "cell_type": "code",
      "source": [
        "t = (100, 200, 300)\n",
        "print(f\"Tuple: {t}\")"
      ],
      "metadata": {
        "colab": {
          "base_uri": "https://localhost:8080/"
        },
        "id": "Ss2nDQjm1dCL",
        "outputId": "cb1512e9-616b-4678-c40f-d2390071c76c"
      },
      "execution_count": null,
      "outputs": [
        {
          "output_type": "stream",
          "name": "stdout",
          "text": [
            "Tuple: (100, 200, 300)\n"
          ]
        }
      ]
    },
    {
      "cell_type": "markdown",
      "source": [
        "Q12. Write a code to access the second-to-last element of the tuple ('red', 'green', 'blue', 'yellow')"
      ],
      "metadata": {
        "id": "-tzEaFnh1-7R"
      }
    },
    {
      "cell_type": "code",
      "source": [
        "t = ('red', 'green', 'blue', 'yellow')\n",
        "print(f\"Second-to-last element: {t[-2]}\")"
      ],
      "metadata": {
        "colab": {
          "base_uri": "https://localhost:8080/"
        },
        "id": "BvrX8W752B8E",
        "outputId": "8e9046cf-2ed8-49d7-b406-74a227540ac7"
      },
      "execution_count": null,
      "outputs": [
        {
          "output_type": "stream",
          "name": "stdout",
          "text": [
            "Second-to-last element: blue\n"
          ]
        }
      ]
    },
    {
      "cell_type": "markdown",
      "source": [
        "Q13. Write a code to find the minimum number in the tuple (10, 20, 5, 15)"
      ],
      "metadata": {
        "id": "kzrLRagF2Gbt"
      }
    },
    {
      "cell_type": "code",
      "source": [
        "t = (10, 20, 5, 15)\n",
        "print(f\"Minimum value: {min(t)}\")"
      ],
      "metadata": {
        "colab": {
          "base_uri": "https://localhost:8080/"
        },
        "id": "3vJjThlZ2gk_",
        "outputId": "b8ae7dc8-4216-4f98-cf32-e2ac3ce41591"
      },
      "execution_count": null,
      "outputs": [
        {
          "output_type": "stream",
          "name": "stdout",
          "text": [
            "Minimum value: 5\n"
          ]
        }
      ]
    },
    {
      "cell_type": "markdown",
      "source": [
        "Q14. Write a code to find the index of the element \"cat\" in the tuple ('dog', 'cat', 'rabbit')"
      ],
      "metadata": {
        "id": "1ooHNXrC2izR"
      }
    },
    {
      "cell_type": "code",
      "source": [
        "t = ('dog', 'cat', 'rabbit')\n",
        "print(f\"Index of 'cat': {t.index('cat')}\")"
      ],
      "metadata": {
        "colab": {
          "base_uri": "https://localhost:8080/"
        },
        "id": "cwiTQE8k2l9_",
        "outputId": "341f4828-8db9-4075-b92b-85f848b1ddb9"
      },
      "execution_count": null,
      "outputs": [
        {
          "output_type": "stream",
          "name": "stdout",
          "text": [
            "Index of 'cat': 1\n"
          ]
        }
      ]
    },
    {
      "cell_type": "markdown",
      "source": [
        "Q15. Write a code to create a tuple containing three different fruits and check if \"kiwi\" is in it"
      ],
      "metadata": {
        "id": "Ifu85kuF2n1E"
      }
    },
    {
      "cell_type": "code",
      "source": [
        "fruits = input(\"Enter three fruits: \").split(',')\n",
        "fruit_tuple = tuple(fruits)\n",
        "print(f\"Tuple: {fruit_tuple}\")\n",
        "print(f\"Is 'kiwi' in tuple? {'kiwi' in fruit_tuple}\")"
      ],
      "metadata": {
        "colab": {
          "base_uri": "https://localhost:8080/"
        },
        "id": "nIfLun9n2rDS",
        "outputId": "f0acb738-fef3-4e0b-d097-58e4a13929ca"
      },
      "execution_count": null,
      "outputs": [
        {
          "output_type": "stream",
          "name": "stdout",
          "text": [
            "Enter three fruits: kiwi,apple,mango\n",
            "Tuple: ('kiwi', 'apple', 'mango')\n",
            "Is 'kiwi' in tuple? True\n"
          ]
        }
      ]
    },
    {
      "cell_type": "markdown",
      "source": [
        "Q16. Write a code to create a set with the elements 'a', 'b', 'c' and print it"
      ],
      "metadata": {
        "id": "Amz2oIFA3B_-"
      }
    },
    {
      "cell_type": "code",
      "source": [
        "s = {'a', 'b', 'c'}\n",
        "print(f\"Set: {s}\")"
      ],
      "metadata": {
        "colab": {
          "base_uri": "https://localhost:8080/"
        },
        "id": "-N8DsAkE3FxA",
        "outputId": "05decab9-fb6c-4ec6-9638-13ef55096ce0"
      },
      "execution_count": null,
      "outputs": [
        {
          "output_type": "stream",
          "name": "stdout",
          "text": [
            "Set: {'b', 'c', 'a'}\n"
          ]
        }
      ]
    },
    {
      "cell_type": "markdown",
      "source": [
        "Q17. Write a code to clear all elements from the set {1, 2, 3, 4, 5}"
      ],
      "metadata": {
        "id": "ULG7Gri-3H92"
      }
    },
    {
      "cell_type": "code",
      "source": [
        "s = {1, 2, 3, 4, 5}\n",
        "s.clear()\n",
        "print(f\"Cleared set: {s}\")"
      ],
      "metadata": {
        "colab": {
          "base_uri": "https://localhost:8080/"
        },
        "id": "mLbpTFO73KrB",
        "outputId": "c0b0b129-b2ec-4b52-845e-ed7429b73482"
      },
      "execution_count": null,
      "outputs": [
        {
          "output_type": "stream",
          "name": "stdout",
          "text": [
            "Cleared set: set()\n"
          ]
        }
      ]
    },
    {
      "cell_type": "markdown",
      "source": [
        "Q18. Write a code to remove the element 4 from the set {1, 2, 3, 4}"
      ],
      "metadata": {
        "id": "I0H_LTg93M6y"
      }
    },
    {
      "cell_type": "code",
      "source": [
        "s = {1, 2, 3, 4}\n",
        "num_to_remove = int(input(\"Enter number to remove: \"))\n",
        "s.remove(num_to_remove)\n",
        "print(f\"Updated set: {s}\")"
      ],
      "metadata": {
        "colab": {
          "base_uri": "https://localhost:8080/"
        },
        "id": "dkR73pD03Sun",
        "outputId": "6e2e2fbe-e0d9-4d99-c349-69f4544e773b"
      },
      "execution_count": null,
      "outputs": [
        {
          "output_type": "stream",
          "name": "stdout",
          "text": [
            "Enter number to remove: 4\n",
            "Updated set: {1, 2, 3}\n"
          ]
        }
      ]
    },
    {
      "cell_type": "markdown",
      "source": [
        "Q19. Write a code to find the union of two sets {1, 2, 3} and {3, 4, 5}"
      ],
      "metadata": {
        "id": "DULK17bv3YJN"
      }
    },
    {
      "cell_type": "code",
      "source": [
        "s1 = {1, 2, 3}\n",
        "s2 = {3, 4, 5}\n",
        "union_set = s1.union(s2)\n",
        "print(f\"Union of {s1} and {s2}: {union_set}\")"
      ],
      "metadata": {
        "colab": {
          "base_uri": "https://localhost:8080/"
        },
        "id": "DfT6dzgJ3bBA",
        "outputId": "a788ded4-c1ea-4bf2-e474-e5a570b0b7fd"
      },
      "execution_count": null,
      "outputs": [
        {
          "output_type": "stream",
          "name": "stdout",
          "text": [
            "Union of {1, 2, 3} and {3, 4, 5}: {1, 2, 3, 4, 5}\n"
          ]
        }
      ]
    },
    {
      "cell_type": "markdown",
      "source": [
        "Q20. Write a code to find the intersection of two sets {1, 2, 3} and {2, 3, 4}"
      ],
      "metadata": {
        "id": "dhFyuCaR3c6L"
      }
    },
    {
      "cell_type": "code",
      "source": [
        "s1 = {1, 2, 3}\n",
        "s2 = {2, 3, 4}\n",
        "intersection_set = s1.intersection(s2)\n",
        "print(f\"Intersection of {s1} and {s2}: {intersection_set}\")"
      ],
      "metadata": {
        "colab": {
          "base_uri": "https://localhost:8080/"
        },
        "id": "2MoTykhi3f4A",
        "outputId": "1af02886-3665-48c9-ec32-902e5f1ba3e7"
      },
      "execution_count": null,
      "outputs": [
        {
          "output_type": "stream",
          "name": "stdout",
          "text": [
            "Intersection of {1, 2, 3} and {2, 3, 4}: {2, 3}\n"
          ]
        }
      ]
    },
    {
      "cell_type": "markdown",
      "source": [
        "Q21. Write a code to create a dictionary with the keys \"name\", \"age\", and \"city\", and print it"
      ],
      "metadata": {
        "id": "Y_7cVpNF3ikx"
      }
    },
    {
      "cell_type": "code",
      "source": [
        "d = {\"name\": input(\"Enter name: \"),\n",
        "     \"age\": input(\"Enter age: \"),\n",
        "     \"city\": input(\"Enter city: \")}\n",
        "print(f\"Dictionary: {d}\")"
      ],
      "metadata": {
        "colab": {
          "base_uri": "https://localhost:8080/"
        },
        "id": "UOwFFdQ03lZn",
        "outputId": "72428128-0b11-4926-e7e4-e5ef026ef83c"
      },
      "execution_count": null,
      "outputs": [
        {
          "output_type": "stream",
          "name": "stdout",
          "text": [
            "Enter name: Mrinal\n",
            "Enter age: 21\n",
            "Enter city: Bilaspur\n",
            "Dictionary: {'name': 'Mrinal', 'age': '21', 'city': 'Bilaspur'}\n"
          ]
        }
      ]
    },
    {
      "cell_type": "markdown",
      "source": [
        "Q22. Write a code to add a new key-value pair \"country\": \"USA\" to the dictionary {'name': 'John', 'age': 25}"
      ],
      "metadata": {
        "id": "ASQeLuXy3rxc"
      }
    },
    {
      "cell_type": "code",
      "source": [
        "d = {'name': 'John', 'age': 25}\n",
        "d[\"country\"] = \"USA\"\n",
        "print(f\"Updated dictionary: {d}\")"
      ],
      "metadata": {
        "colab": {
          "base_uri": "https://localhost:8080/"
        },
        "id": "k-olQhlj3vWU",
        "outputId": "2f96c909-b3ff-4c92-9306-d14e27dc0786"
      },
      "execution_count": null,
      "outputs": [
        {
          "output_type": "stream",
          "name": "stdout",
          "text": [
            "Updated dictionary: {'name': 'John', 'age': 25, 'country': 'USA'}\n"
          ]
        }
      ]
    },
    {
      "cell_type": "markdown",
      "source": [
        "Q23. Write a code to access the value associated with the key \"name\" in the dictionary {'name': 'Alice', 'age': 30}"
      ],
      "metadata": {
        "id": "wft-NYvj398_"
      }
    },
    {
      "cell_type": "code",
      "source": [
        "d = {'name': 'Alice', 'age': 30}\n",
        "print(f\"Value of 'name': {d['name']}\")"
      ],
      "metadata": {
        "colab": {
          "base_uri": "https://localhost:8080/"
        },
        "id": "Tqu04At14An9",
        "outputId": "e1bf6312-2591-4f98-9f1b-40f24ec87095"
      },
      "execution_count": null,
      "outputs": [
        {
          "output_type": "stream",
          "name": "stdout",
          "text": [
            "Value of 'name': Alice\n"
          ]
        }
      ]
    },
    {
      "cell_type": "markdown",
      "source": [
        "Q24. Write a code to remove the key \"age\" from the dictionary {'name': 'Bob', 'age': 22, 'city': 'New York'}"
      ],
      "metadata": {
        "id": "P_8w9jgS4C-e"
      }
    },
    {
      "cell_type": "code",
      "source": [
        "d = {'name': 'Bob', 'age': 22, 'city': 'New York'}\n",
        "del d[\"age\"]\n",
        "print(f\"Updated dictionary: {d}\")"
      ],
      "metadata": {
        "colab": {
          "base_uri": "https://localhost:8080/"
        },
        "id": "3spqJsDj4Fwy",
        "outputId": "44ffd483-3a36-4647-da36-57b7fe39027f"
      },
      "execution_count": null,
      "outputs": [
        {
          "output_type": "stream",
          "name": "stdout",
          "text": [
            "Updated dictionary: {'name': 'Bob', 'city': 'New York'}\n"
          ]
        }
      ]
    },
    {
      "cell_type": "markdown",
      "source": [
        "Q25. Write a code to check if the key \"city\" exists in the dictionary {'name': 'Alice', 'city': 'Paris'}."
      ],
      "metadata": {
        "id": "wQfnEShf4Iz4"
      }
    },
    {
      "cell_type": "code",
      "source": [
        "d = {'name': 'Alice', 'city': 'Paris'}\n",
        "key_to_check = \"city\"\n",
        "print(f\"Does '{key_to_check}' exist? {key_to_check in d}\")"
      ],
      "metadata": {
        "colab": {
          "base_uri": "https://localhost:8080/"
        },
        "id": "WIrFhDta4Lqm",
        "outputId": "27e533ab-1fb4-42ac-83e2-af7c1e6423f9"
      },
      "execution_count": null,
      "outputs": [
        {
          "output_type": "stream",
          "name": "stdout",
          "text": [
            "Does 'city' exist? True\n"
          ]
        }
      ]
    },
    {
      "cell_type": "markdown",
      "source": [
        "Q26. Write a code to create a list, a tuple, and a dictionary, and print them all"
      ],
      "metadata": {
        "id": "Vb9oY6h-4RCr"
      }
    },
    {
      "cell_type": "code",
      "source": [
        "my_list = input(\"Enter list items: \").split(',')\n",
        "my_tuple = tuple(input(\"Enter tuple items: \").split(','))\n",
        "my_dict = {\"key1\": input(\"Enter value1: \"), \"key2\": input(\"Enter value2: \")}\n",
        "print(f\"List: {my_list}\\nTuple: {my_tuple}\\nDictionary: {my_dict}\")"
      ],
      "metadata": {
        "colab": {
          "base_uri": "https://localhost:8080/"
        },
        "id": "BTk1aoTp4UDx",
        "outputId": "3abf7efa-06f6-4349-9036-d420501e2f43"
      },
      "execution_count": null,
      "outputs": [
        {
          "output_type": "stream",
          "name": "stdout",
          "text": [
            "Enter list items: Mango\n",
            "Enter tuple items: Apple\n",
            "Enter value1: 2\n",
            "Enter value2: 3\n",
            "List: ['Mango']\n",
            "Tuple: ('Apple',)\n",
            "Dictionary: {'key1': '2', 'key2': '3'}\n"
          ]
        }
      ]
    },
    {
      "cell_type": "markdown",
      "source": [
        "Q27. Write a code to create a list of 5 random numbers between 1 and 100, sort it in ascending order, and print the\n",
        "result.(replaced)"
      ],
      "metadata": {
        "id": "HnqFQRUs4g-1"
      }
    },
    {
      "cell_type": "code",
      "source": [
        "import random\n",
        "numbers = [random.randint(1, 100) for _ in range(5)]\n",
        "numbers.sort()\n",
        "print(f\"Sorted random numbers: {numbers}\")"
      ],
      "metadata": {
        "colab": {
          "base_uri": "https://localhost:8080/"
        },
        "id": "z5t6mS3J4jmh",
        "outputId": "d731e50a-d7c8-4658-8315-e19bb9061117"
      },
      "execution_count": null,
      "outputs": [
        {
          "output_type": "stream",
          "name": "stdout",
          "text": [
            "Sorted random numbers: [13, 60, 86, 88, 93]\n"
          ]
        }
      ]
    },
    {
      "cell_type": "markdown",
      "source": [
        "Q28. Write a code to create a list with strings and print the element at the third index"
      ],
      "metadata": {
        "id": "L6g_U9rm4lQz"
      }
    },
    {
      "cell_type": "code",
      "source": [
        "strings = input(\"Enter strings: \").split(',')\n",
        "print(f\"Element at third index: {strings[2]}\")"
      ],
      "metadata": {
        "colab": {
          "base_uri": "https://localhost:8080/"
        },
        "id": "BXR4TdFr4oqd",
        "outputId": "64200961-f796-4a2f-cf0f-25fa8ad129ac"
      },
      "execution_count": null,
      "outputs": [
        {
          "output_type": "stream",
          "name": "stdout",
          "text": [
            "Enter strings: Apple,Mango,Banana\n",
            "Element at third index: Banana\n"
          ]
        }
      ]
    },
    {
      "cell_type": "markdown",
      "source": [
        "Q29. Write a code to combine two dictionaries into one and print the result"
      ],
      "metadata": {
        "id": "_MjfMnlu41sb"
      }
    },
    {
      "cell_type": "code",
      "source": [
        "d1 = {\"a\": input(\"Enter value for d1 key 'a': \"), \"b\": input(\"Enter value for d1 key 'b': \")}\n",
        "d2 = {\"c\": input(\"Enter value for d2 key 'c': \"), \"d\": input(\"Enter value for d2 key 'd': \")}\n",
        "d1.update(d2)\n",
        "print(f\"Combined dictionary: {d1}\")"
      ],
      "metadata": {
        "colab": {
          "base_uri": "https://localhost:8080/"
        },
        "id": "FCeZhzyc45GL",
        "outputId": "7afa3f1c-841b-49b4-da81-765dd9af3b0b"
      },
      "execution_count": null,
      "outputs": [
        {
          "output_type": "stream",
          "name": "stdout",
          "text": [
            "Enter value for d1 key 'a': abc\n",
            "Enter value for d1 key 'b': def\n",
            "Enter value for d2 key 'c': fgh\n",
            "Enter value for d2 key 'd': ijk\n",
            "Combined dictionary: {'a': 'abc', 'b': 'def', 'c': 'fgh', 'd': 'ijk'}\n"
          ]
        }
      ]
    },
    {
      "cell_type": "markdown",
      "source": [
        "Q30. Write a code to convert a list of strings into a set"
      ],
      "metadata": {
        "id": "FQC0weCS4_Mw"
      }
    },
    {
      "cell_type": "code",
      "source": [
        "string_list = input(\"Enter strings: \").split(',')\n",
        "string_set = set(string_list)\n",
        "print(f\"Converted to set: {string_set}\")"
      ],
      "metadata": {
        "colab": {
          "base_uri": "https://localhost:8080/"
        },
        "id": "EDc0JjLg5CDC",
        "outputId": "66072833-b375-45cc-ee49-736dab663a2e"
      },
      "execution_count": null,
      "outputs": [
        {
          "output_type": "stream",
          "name": "stdout",
          "text": [
            "Enter strings: Apple,Mango,Orange\n",
            "Converted to set: {'Apple', 'Orange', 'Mango'}\n"
          ]
        }
      ]
    }
  ]
}